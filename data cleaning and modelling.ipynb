{
 "cells": [
  {
   "cell_type": "markdown",
   "metadata": {},
   "source": [
    "Hello, my name is Kamila. I am getting my master's degree in Data Science now and after 3 months of studies I decided to try my new-aquired skills on a Kaggle dataset. \n",
    "\n",
    "I admire Data Science for ability of learning new every day and opportunity of constantly challenging oneself.\n",
    "Last 3,5 years I worked in cyber security, but apart from this I have a broad range of interests. For example, I am a huge fan of human brain. It's a masterpiece which we still didn't study as much as other parts of human body. I have high hopes that in the nearest future we will make fantastic discoveries in neuroscience.\n",
    "\n",
    "\n",
    "// Disclaimer: I believe data scientists spend most of the time on aquiring and clening data (so do I on another project), but for the sake of practice here I am with \"picard\" dataset.\n",
    "\n",
    "\n",
    "Today I bring your attention on Classification problem: \"Eyes open/Eyes shut\" based on time series of brain waves aquired during experiment conducted by Ben Latimer. Thank you Ben! https://www.kaggle.com/latimerb/eeg-leftright I have seen your work and it's truly impressive! I'm not here to copy-paste your work but rather try different approach in cleaning and building / training model. \n",
    "\n",
    "----- \n",
    "\n",
    "What we know: Brain is a highly-complex in its processes (group of) organ(s), driven by chemical reactions that create electromagnetic radiation. As electrical impulses differ of its origins and intensity so do the waves we can register. \n",
    "\n",
    "The experiment obtained alpha waves as they are known to have highest amplitude when we close eyes (in a dark room) and weaken when eyes are open. Exciting! Let's see what we can do with it."
   ]
  },
  {
   "cell_type": "code",
   "execution_count": 732,
   "metadata": {},
   "outputs": [],
   "source": [
    "import numpy as np #linear algebra\n",
    "import pandas as pd #work with dataframes, quirtiles \n",
    "import matplotlib.pyplot as plt # we need for plotting\n",
    "import scipy as scipy\n",
    "import scipy.signal as signal  # for stats\n",
    "import pylab as pylab # not sure yet lol"
   ]
  },
  {
   "cell_type": "code",
   "execution_count": 733,
   "metadata": {},
   "outputs": [
    {
     "data": {
      "text/plain": [
       "'/Users/kamila/Downloads/archive'"
      ]
     },
     "execution_count": 733,
     "metadata": {},
     "output_type": "execute_result"
    }
   ],
   "source": [
    "pwd #I'm sure but let's check anyway"
   ]
  },
  {
   "cell_type": "code",
   "execution_count": 734,
   "metadata": {},
   "outputs": [],
   "source": [
    "df = pd.read_csv('OpenBCI-RAW-2020-03-10_08-53-44.txt',skiprows=6,header=None) #we import file with data"
   ]
  },
  {
   "cell_type": "code",
   "execution_count": 735,
   "metadata": {},
   "outputs": [
    {
     "data": {
      "text/html": [
       "<div>\n",
       "<style scoped>\n",
       "    .dataframe tbody tr th:only-of-type {\n",
       "        vertical-align: middle;\n",
       "    }\n",
       "\n",
       "    .dataframe tbody tr th {\n",
       "        vertical-align: top;\n",
       "    }\n",
       "\n",
       "    .dataframe thead th {\n",
       "        text-align: right;\n",
       "    }\n",
       "</style>\n",
       "<table border=\"1\" class=\"dataframe\">\n",
       "  <thead>\n",
       "    <tr style=\"text-align: right;\">\n",
       "      <th></th>\n",
       "      <th>0</th>\n",
       "      <th>1</th>\n",
       "      <th>2</th>\n",
       "      <th>3</th>\n",
       "      <th>4</th>\n",
       "      <th>5</th>\n",
       "      <th>6</th>\n",
       "      <th>7</th>\n",
       "      <th>8</th>\n",
       "      <th>9</th>\n",
       "    </tr>\n",
       "  </thead>\n",
       "  <tbody>\n",
       "    <tr>\n",
       "      <td>0</td>\n",
       "      <td>0</td>\n",
       "      <td>-76.20</td>\n",
       "      <td>1.38</td>\n",
       "      <td>-34.35</td>\n",
       "      <td>-51.09</td>\n",
       "      <td>0.912</td>\n",
       "      <td>0.112</td>\n",
       "      <td>-0.464</td>\n",
       "      <td>08:54:30.263</td>\n",
       "      <td>1.583848e+12</td>\n",
       "    </tr>\n",
       "    <tr>\n",
       "      <td>1</td>\n",
       "      <td>1</td>\n",
       "      <td>-36.12</td>\n",
       "      <td>29.01</td>\n",
       "      <td>76.34</td>\n",
       "      <td>48.51</td>\n",
       "      <td>0.912</td>\n",
       "      <td>0.112</td>\n",
       "      <td>-0.464</td>\n",
       "      <td>08:54:30.263</td>\n",
       "      <td>1.583848e+12</td>\n",
       "    </tr>\n",
       "    <tr>\n",
       "      <td>2</td>\n",
       "      <td>2</td>\n",
       "      <td>-43.59</td>\n",
       "      <td>31.42</td>\n",
       "      <td>58.11</td>\n",
       "      <td>30.55</td>\n",
       "      <td>0.912</td>\n",
       "      <td>0.112</td>\n",
       "      <td>-0.464</td>\n",
       "      <td>08:54:30.263</td>\n",
       "      <td>1.583848e+12</td>\n",
       "    </tr>\n",
       "    <tr>\n",
       "      <td>3</td>\n",
       "      <td>3</td>\n",
       "      <td>-77.29</td>\n",
       "      <td>2.68</td>\n",
       "      <td>-19.45</td>\n",
       "      <td>-49.45</td>\n",
       "      <td>0.912</td>\n",
       "      <td>0.112</td>\n",
       "      <td>-0.464</td>\n",
       "      <td>08:54:30.274</td>\n",
       "      <td>1.583848e+12</td>\n",
       "    </tr>\n",
       "    <tr>\n",
       "      <td>4</td>\n",
       "      <td>4</td>\n",
       "      <td>-57.05</td>\n",
       "      <td>17.48</td>\n",
       "      <td>52.08</td>\n",
       "      <td>23.03</td>\n",
       "      <td>0.912</td>\n",
       "      <td>0.112</td>\n",
       "      <td>-0.464</td>\n",
       "      <td>08:54:30.274</td>\n",
       "      <td>1.583848e+12</td>\n",
       "    </tr>\n",
       "  </tbody>\n",
       "</table>\n",
       "</div>"
      ],
      "text/plain": [
       "   0      1      2      3      4      5      6      7              8  \\\n",
       "0  0 -76.20   1.38 -34.35 -51.09  0.912  0.112 -0.464   08:54:30.263   \n",
       "1  1 -36.12  29.01  76.34  48.51  0.912  0.112 -0.464   08:54:30.263   \n",
       "2  2 -43.59  31.42  58.11  30.55  0.912  0.112 -0.464   08:54:30.263   \n",
       "3  3 -77.29   2.68 -19.45 -49.45  0.912  0.112 -0.464   08:54:30.274   \n",
       "4  4 -57.05  17.48  52.08  23.03  0.912  0.112 -0.464   08:54:30.274   \n",
       "\n",
       "              9  \n",
       "0  1.583848e+12  \n",
       "1  1.583848e+12  \n",
       "2  1.583848e+12  \n",
       "3  1.583848e+12  \n",
       "4  1.583848e+12  "
      ]
     },
     "execution_count": 735,
     "metadata": {},
     "output_type": "execute_result"
    }
   ],
   "source": [
    "df.head() #first glance"
   ]
  },
  {
   "cell_type": "code",
   "execution_count": null,
   "metadata": {},
   "outputs": [],
   "source": [
    "#lets get rid of missing values\n",
    "#df.isna()"
   ]
  },
  {
   "cell_type": "code",
   "execution_count": null,
   "metadata": {},
   "outputs": [],
   "source": [
    "#df = df.dropna() #lovely!"
   ]
  },
  {
   "cell_type": "code",
   "execution_count": null,
   "metadata": {},
   "outputs": [],
   "source": [
    "# let's name columns according to the author "
   ]
  },
  {
   "cell_type": "code",
   "execution_count": 736,
   "metadata": {},
   "outputs": [],
   "source": [
    "df.columns=['index','channel1','channel2','channel3','channel4','acc1','acc2','acc3','time_std','timestamp']"
   ]
  },
  {
   "cell_type": "code",
   "execution_count": 737,
   "metadata": {},
   "outputs": [
    {
     "data": {
      "text/html": [
       "<div>\n",
       "<style scoped>\n",
       "    .dataframe tbody tr th:only-of-type {\n",
       "        vertical-align: middle;\n",
       "    }\n",
       "\n",
       "    .dataframe tbody tr th {\n",
       "        vertical-align: top;\n",
       "    }\n",
       "\n",
       "    .dataframe thead th {\n",
       "        text-align: right;\n",
       "    }\n",
       "</style>\n",
       "<table border=\"1\" class=\"dataframe\">\n",
       "  <thead>\n",
       "    <tr style=\"text-align: right;\">\n",
       "      <th></th>\n",
       "      <th>index</th>\n",
       "      <th>channel1</th>\n",
       "      <th>channel2</th>\n",
       "      <th>channel3</th>\n",
       "      <th>channel4</th>\n",
       "      <th>acc1</th>\n",
       "      <th>acc2</th>\n",
       "      <th>acc3</th>\n",
       "      <th>time_std</th>\n",
       "      <th>timestamp</th>\n",
       "    </tr>\n",
       "  </thead>\n",
       "  <tbody>\n",
       "    <tr>\n",
       "      <td>0</td>\n",
       "      <td>0</td>\n",
       "      <td>-76.20</td>\n",
       "      <td>1.38</td>\n",
       "      <td>-34.35</td>\n",
       "      <td>-51.09</td>\n",
       "      <td>0.912</td>\n",
       "      <td>0.112</td>\n",
       "      <td>-0.464</td>\n",
       "      <td>08:54:30.263</td>\n",
       "      <td>1.583848e+12</td>\n",
       "    </tr>\n",
       "    <tr>\n",
       "      <td>1</td>\n",
       "      <td>1</td>\n",
       "      <td>-36.12</td>\n",
       "      <td>29.01</td>\n",
       "      <td>76.34</td>\n",
       "      <td>48.51</td>\n",
       "      <td>0.912</td>\n",
       "      <td>0.112</td>\n",
       "      <td>-0.464</td>\n",
       "      <td>08:54:30.263</td>\n",
       "      <td>1.583848e+12</td>\n",
       "    </tr>\n",
       "    <tr>\n",
       "      <td>2</td>\n",
       "      <td>2</td>\n",
       "      <td>-43.59</td>\n",
       "      <td>31.42</td>\n",
       "      <td>58.11</td>\n",
       "      <td>30.55</td>\n",
       "      <td>0.912</td>\n",
       "      <td>0.112</td>\n",
       "      <td>-0.464</td>\n",
       "      <td>08:54:30.263</td>\n",
       "      <td>1.583848e+12</td>\n",
       "    </tr>\n",
       "    <tr>\n",
       "      <td>3</td>\n",
       "      <td>3</td>\n",
       "      <td>-77.29</td>\n",
       "      <td>2.68</td>\n",
       "      <td>-19.45</td>\n",
       "      <td>-49.45</td>\n",
       "      <td>0.912</td>\n",
       "      <td>0.112</td>\n",
       "      <td>-0.464</td>\n",
       "      <td>08:54:30.274</td>\n",
       "      <td>1.583848e+12</td>\n",
       "    </tr>\n",
       "    <tr>\n",
       "      <td>4</td>\n",
       "      <td>4</td>\n",
       "      <td>-57.05</td>\n",
       "      <td>17.48</td>\n",
       "      <td>52.08</td>\n",
       "      <td>23.03</td>\n",
       "      <td>0.912</td>\n",
       "      <td>0.112</td>\n",
       "      <td>-0.464</td>\n",
       "      <td>08:54:30.274</td>\n",
       "      <td>1.583848e+12</td>\n",
       "    </tr>\n",
       "  </tbody>\n",
       "</table>\n",
       "</div>"
      ],
      "text/plain": [
       "   index  channel1  channel2  channel3  channel4   acc1   acc2   acc3  \\\n",
       "0      0    -76.20      1.38    -34.35    -51.09  0.912  0.112 -0.464   \n",
       "1      1    -36.12     29.01     76.34     48.51  0.912  0.112 -0.464   \n",
       "2      2    -43.59     31.42     58.11     30.55  0.912  0.112 -0.464   \n",
       "3      3    -77.29      2.68    -19.45    -49.45  0.912  0.112 -0.464   \n",
       "4      4    -57.05     17.48     52.08     23.03  0.912  0.112 -0.464   \n",
       "\n",
       "        time_std     timestamp  \n",
       "0   08:54:30.263  1.583848e+12  \n",
       "1   08:54:30.263  1.583848e+12  \n",
       "2   08:54:30.263  1.583848e+12  \n",
       "3   08:54:30.274  1.583848e+12  \n",
       "4   08:54:30.274  1.583848e+12  "
      ]
     },
     "execution_count": 737,
     "metadata": {},
     "output_type": "execute_result"
    }
   ],
   "source": [
    "df.head() #that's better"
   ]
  },
  {
   "cell_type": "code",
   "execution_count": 738,
   "metadata": {},
   "outputs": [],
   "source": [
    "df.drop(['index'],axis=1,inplace=True) # we don't need index column twice, let's delete one"
   ]
  },
  {
   "cell_type": "code",
   "execution_count": 739,
   "metadata": {},
   "outputs": [
    {
     "data": {
      "text/plain": [
       "[<matplotlib.lines.Line2D at 0x7fc9ef178cd0>]"
      ]
     },
     "execution_count": 739,
     "metadata": {},
     "output_type": "execute_result"
    },
    {
     "data": {
      "image/png": "[encoded data removed]",
      "text/plain": [
       "<Figure size 432x288 with 1 Axes>"
      ]
     },
     "metadata": {
      "needs_background": "light"
     },
     "output_type": "display_data"
    }
   ],
   "source": [
    "plt.figure()\n",
    "plt.plot(df['channel1'])\n",
    "plt.plot(df['channel2'])\n",
    "#plt.plot(df['channel3'])\n",
    "#plt.plot(df['channel4'])\n",
    "# we have plotted columns that represent data gathered with 'channels' that's brain waves \n",
    "#we see general regression, it's not correct due to waves being constant. we need to remove this trend"
   ]
  },
  {
   "cell_type": "code",
   "execution_count": 740,
   "metadata": {},
   "outputs": [],
   "source": [
    "df['channel1'] = ss.detrend(df['channel1'])\n",
    "df['channel2'] = ss.detrend(df['channel2'])\n",
    "df['channel3'] = ss.detrend(df['channel3'])\n",
    "df['channel4'] = ss.detrend(df['channel4']) # we have used scipy library to detrend functions"
   ]
  },
  {
   "cell_type": "code",
   "execution_count": 741,
   "metadata": {},
   "outputs": [
    {
     "data": {
      "text/plain": [
       "\"plt.plot(df['channel3'])\\nplt.plot(df['channel4'])\""
      ]
     },
     "execution_count": 741,
     "metadata": {},
     "output_type": "execute_result"
    },
    {
     "data": {
      "image/png": "[encoded data removed]",
      "text/plain": [
       "<Figure size 432x288 with 1 Axes>"
      ]
     },
     "metadata": {
      "needs_background": "light"
     },
     "output_type": "display_data"
    }
   ],
   "source": [
    "plt.plot(df['channel1'])\n",
    "plt.plot(df['channel2'])\n",
    "\"\"\"plt.plot(df['channel3'])\n",
    "plt.plot(df['channel4'])\"\"\""
   ]
  },
  {
   "cell_type": "code",
   "execution_count": 778,
   "metadata": {},
   "outputs": [],
   "source": [
    "df['seconds_from_start']=(df['timestamp']-df['timestamp'].iloc[0])/1000"
   ]
  },
  {
   "cell_type": "code",
   "execution_count": 779,
   "metadata": {},
   "outputs": [],
   "source": [
    "y_labels = np.zeros((df['time_std'].shape[0],1))"
   ]
  },
  {
   "cell_type": "code",
   "execution_count": 780,
   "metadata": {},
   "outputs": [],
   "source": [
    "y_labels[(60<df.seconds_from_start)&(df.seconds_from_start<90)] = 1\n",
    "y_labels[(120<df.seconds_from_start)&(df.seconds_from_start<150)] = 1\n",
    "y_labels[(180<df.seconds_from_start)&(df.seconds_from_start<210)] = 1\n",
    "y_labels[(240<df.seconds_from_start)&(df.seconds_from_start<270)] = 1\n",
    "y_labels[(300<df.seconds_from_start)&(df.seconds_from_start<330)] = 1\n",
    "y_labels[(360<df.seconds_from_start)&(df.seconds_from_start<390)] = 1\n",
    "y_labels[(420<df.seconds_from_start)&(df.seconds_from_start<450)] = 1\n",
    "y_labels[(480<df.seconds_from_start)&(df.seconds_from_start<510)] = 1\n",
    "y_labels[(540<df.seconds_from_start)&(df.seconds_from_start<570)] = 1\n",
    "y_labels[(600<df.seconds_from_start)&(df.seconds_from_start<630)] = 1"
   ]
  },
  {
   "cell_type": "code",
   "execution_count": 781,
   "metadata": {},
   "outputs": [
    {
     "data": {
      "text/plain": [
       "[<matplotlib.lines.Line2D at 0x7fca3afa3150>]"
      ]
     },
     "execution_count": 781,
     "metadata": {},
     "output_type": "execute_result"
    },
    {
     "data": {
      "image/png": "[encoded data removed]",
      "text/plain": [
       "<Figure size 432x288 with 1 Axes>"
      ]
     },
     "metadata": {
      "needs_background": "light"
     },
     "output_type": "display_data"
    }
   ],
   "source": [
    "plt.plot(df[\"channel1\"])\n",
    "plt.plot(y_labels,'r')"
   ]
  },
  {
   "cell_type": "code",
   "execution_count": null,
   "metadata": {},
   "outputs": [],
   "source": []
  },
  {
   "cell_type": "code",
   "execution_count": null,
   "metadata": {},
   "outputs": [],
   "source": [
    "df = df.dropna() #lovely!"
   ]
  },
  {
   "cell_type": "code",
   "execution_count": null,
   "metadata": {},
   "outputs": [],
   "source": [
    "plt.boxplot(df['channel1']) # There are outliers which in neuroscience they call artifacts. \n",
    "# both plot and boxplot show that there are outliers above and below the graph "
   ]
  },
  {
   "cell_type": "code",
   "execution_count": null,
   "metadata": {},
   "outputs": [],
   "source": [
    "# all the channels registered extreme values (outliers) in a perfect world they exactly indicate \n",
    "# on the impulse that is sent by brain in order to close eyes or open them\n",
    "# but unfortunately we cannot assume it true as there might have been other impulses / external world waves etc\n",
    "# can you imagine, even when we sweat our brain produces special \"sweating\" waves :) obviously.\n",
    "# so let's try and remove outliers"
   ]
  },
  {
   "cell_type": "code",
   "execution_count": 776,
   "metadata": {},
   "outputs": [],
   "source": [
    "q = df[\"channel1\"].quantile(0.97)\n",
    "df[df[\"channel1\"] < q]\n",
    "q_low = df[\"channel1\"].quantile(0.03)\n",
    "q_hi  = df[\"channel1\"].quantile(0.97)\n",
    "\n",
    "df = df[(df[\"channel1\"] < q_hi) & (df[\"channel1\"] > q_low)]\n",
    "# I deided to remove outliers with quantiles \n",
    "# i increased value of quartiles from 99-1 to 90-10 "
   ]
  },
  {
   "cell_type": "code",
   "execution_count": 777,
   "metadata": {},
   "outputs": [
    {
     "data": {
      "text/plain": [
       "{'whiskers': [<matplotlib.lines.Line2D at 0x7fca458c61d0>,\n",
       "  <matplotlib.lines.Line2D at 0x7fca458bccd0>],\n",
       " 'caps': [<matplotlib.lines.Line2D at 0x7fca458c2050>,\n",
       "  <matplotlib.lines.Line2D at 0x7fca458c9e50>],\n",
       " 'boxes': [<matplotlib.lines.Line2D at 0x7fca458c6ed0>],\n",
       " 'medians': [<matplotlib.lines.Line2D at 0x7fca458bc690>],\n",
       " 'fliers': [<matplotlib.lines.Line2D at 0x7fca458c1610>],\n",
       " 'means': []}"
      ]
     },
     "execution_count": 777,
     "metadata": {},
     "output_type": "execute_result"
    },
    {
     "data": {
      "image/png": "[encoded data removed]",
      "text/plain": [
       "<Figure size 432x288 with 1 Axes>"
      ]
     },
     "metadata": {
      "needs_background": "light"
     },
     "output_type": "display_data"
    }
   ],
   "source": [
    "plt.boxplot(df['channel1'])"
   ]
  },
  {
   "cell_type": "code",
   "execution_count": 758,
   "metadata": {},
   "outputs": [],
   "source": [
    "q = df[\"channel2\"].quantile(0.99)\n",
    "df[df[\"channel2\"] < q]\n",
    "q_low = df[\"channel2\"].quantile(0.01)\n",
    "q_hi  = df[\"channel2\"].quantile(0.99)\n",
    "\n",
    "df = df[(df[\"channel2\"] < q_hi) & (df[\"channel2\"] > q_low)]"
   ]
  },
  {
   "cell_type": "code",
   "execution_count": 759,
   "metadata": {},
   "outputs": [
    {
     "data": {
      "text/plain": [
       "{'whiskers': [<matplotlib.lines.Line2D at 0x7fc9fbe50990>,\n",
       "  <matplotlib.lines.Line2D at 0x7fca0247dd50>],\n",
       " 'caps': [<matplotlib.lines.Line2D at 0x7fca0247d110>,\n",
       "  <matplotlib.lines.Line2D at 0x7fca00e05810>],\n",
       " 'boxes': [<matplotlib.lines.Line2D at 0x7fc9fbe50610>],\n",
       " 'medians': [<matplotlib.lines.Line2D at 0x7fc9fbe47350>],\n",
       " 'fliers': [<matplotlib.lines.Line2D at 0x7fca04c81650>],\n",
       " 'means': []}"
      ]
     },
     "execution_count": 759,
     "metadata": {},
     "output_type": "execute_result"
    },
    {
     "data": {
      "image/png": "[encoded data removed]",
      "text/plain": [
       "<Figure size 432x288 with 1 Axes>"
      ]
     },
     "metadata": {
      "needs_background": "light"
     },
     "output_type": "display_data"
    }
   ],
   "source": [
    "plt.boxplot(df['channel2'])"
   ]
  },
  {
   "cell_type": "code",
   "execution_count": 760,
   "metadata": {},
   "outputs": [],
   "source": [
    "q = df[\"channel3\"].quantile(0.99)\n",
    "df[df[\"channel3\"] < q]\n",
    "q_low = df[\"channel3\"].quantile(0.01)\n",
    "q_hi  = df[\"channel3\"].quantile(0.99)\n",
    "\n",
    "df = df[(df[\"channel3\"] < q_hi) & (df[\"channel3\"] > q_low)]"
   ]
  },
  {
   "cell_type": "code",
   "execution_count": 761,
   "metadata": {},
   "outputs": [
    {
     "data": {
      "text/plain": [
       "{'whiskers': [<matplotlib.lines.Line2D at 0x7fca1855b8d0>,\n",
       "  <matplotlib.lines.Line2D at 0x7fc9fe9fcf90>],\n",
       " 'caps': [<matplotlib.lines.Line2D at 0x7fca180e3890>,\n",
       "  <matplotlib.lines.Line2D at 0x7fca180f1d10>],\n",
       " 'boxes': [<matplotlib.lines.Line2D at 0x7fc9fe9de850>],\n",
       " 'medians': [<matplotlib.lines.Line2D at 0x7fc9fdf321d0>],\n",
       " 'fliers': [<matplotlib.lines.Line2D at 0x7fca180fba50>],\n",
       " 'means': []}"
      ]
     },
     "execution_count": 761,
     "metadata": {},
     "output_type": "execute_result"
    },
    {
     "data": {
      "image/png": "[encoded data removed]",
      "text/plain": [
       "<Figure size 432x288 with 1 Axes>"
      ]
     },
     "metadata": {
      "needs_background": "light"
     },
     "output_type": "display_data"
    }
   ],
   "source": [
    "plt.boxplot(df['channel3'])"
   ]
  },
  {
   "cell_type": "code",
   "execution_count": 762,
   "metadata": {},
   "outputs": [],
   "source": [
    "q = df[\"channel4\"].quantile(0.99)\n",
    "df[df[\"channel4\"] < q]\n",
    "q_low = df[\"channel4\"].quantile(0.01)\n",
    "q_hi  = df[\"channel4\"].quantile(0.99)\n",
    "\n",
    "df = df[(df[\"channel4\"] < q_hi) & (df[\"channel4\"] > q_low)]"
   ]
  },
  {
   "cell_type": "code",
   "execution_count": 763,
   "metadata": {},
   "outputs": [
    {
     "data": {
      "text/plain": [
       "{'whiskers': [<matplotlib.lines.Line2D at 0x7fca12f64690>,\n",
       "  <matplotlib.lines.Line2D at 0x7fca12f72b90>],\n",
       " 'caps': [<matplotlib.lines.Line2D at 0x7fca12f6f290>,\n",
       "  <matplotlib.lines.Line2D at 0x7fca12f715d0>],\n",
       " 'boxes': [<matplotlib.lines.Line2D at 0x7fca12f64a10>],\n",
       " 'medians': [<matplotlib.lines.Line2D at 0x7fca12f71f90>],\n",
       " 'fliers': [<matplotlib.lines.Line2D at 0x7fca12f72c10>],\n",
       " 'means': []}"
      ]
     },
     "execution_count": 763,
     "metadata": {},
     "output_type": "execute_result"
    },
    {
     "data": {
      "image/png": "[encoded data removed]",
      "text/plain": [
       "<Figure size 432x288 with 1 Axes>"
      ]
     },
     "metadata": {
      "needs_background": "light"
     },
     "output_type": "display_data"
    }
   ],
   "source": [
    "plt.boxplot(df['channel4'])"
   ]
  },
  {
   "cell_type": "code",
   "execution_count": 764,
   "metadata": {},
   "outputs": [
    {
     "data": {
      "text/plain": [
       "[<matplotlib.lines.Line2D at 0x7fca44a8ad50>]"
      ]
     },
     "execution_count": 764,
     "metadata": {},
     "output_type": "execute_result"
    },
    {
     "data": {
      "image/png": "[encoded data removed]",
      "text/plain": [
       "<Figure size 432x288 with 1 Axes>"
      ]
     },
     "metadata": {
      "needs_background": "light"
     },
     "output_type": "display_data"
    }
   ],
   "source": [
    "plt.plot(df['channel1']) #let's see how it looks on a plot"
   ]
  },
  {
   "cell_type": "code",
   "execution_count": 765,
   "metadata": {
    "scrolled": true
   },
   "outputs": [
    {
     "data": {
      "text/plain": [
       "[<matplotlib.lines.Line2D at 0x7fca2208d410>]"
      ]
     },
     "execution_count": 765,
     "metadata": {},
     "output_type": "execute_result"
    },
    {
     "data": {
      "image/png": "[encoded data removed]",
      "text/plain": [
       "<Figure size 432x288 with 1 Axes>"
      ]
     },
     "metadata": {
      "needs_background": "light"
     },
     "output_type": "display_data"
    }
   ],
   "source": [
    "plt.plot(df['acc1'])\n",
    "plt.plot(df['acc2'])\n",
    "plt.plot(df['acc3']) # just wanted to check accelerators data, anyway that's not what we want to work with"
   ]
  },
  {
   "cell_type": "code",
   "execution_count": null,
   "metadata": {},
   "outputs": [],
   "source": [
    "#let's label Y axis as author says every 30 seconds he was opening/closing eyes "
   ]
  },
  {
   "cell_type": "code",
   "execution_count": null,
   "metadata": {},
   "outputs": [],
   "source": [
    "plt.plot(df['channel1'])"
   ]
  },
  {
   "cell_type": "code",
   "execution_count": null,
   "metadata": {},
   "outputs": [],
   "source": [
    "df['seconds_from_start']=(df['timestamp']-df['timestamp'].iloc[0])/1000"
   ]
  },
  {
   "cell_type": "code",
   "execution_count": null,
   "metadata": {},
   "outputs": [],
   "source": [
    "y_labels = np.zeros((df['time_std'].shape[0],1))"
   ]
  },
  {
   "cell_type": "code",
   "execution_count": null,
   "metadata": {},
   "outputs": [],
   "source": [
    "y_labels[(60<df.seconds_from_start)&(df.seconds_from_start<90)] = 1\n",
    "y_labels[(120<df.seconds_from_start)&(df.seconds_from_start<150)] = 1\n",
    "y_labels[(180<df.seconds_from_start)&(df.seconds_from_start<210)] = 1\n",
    "y_labels[(240<df.seconds_from_start)&(df.seconds_from_start<270)] = 1\n",
    "y_labels[(300<df.seconds_from_start)&(df.seconds_from_start<330)] = 1\n",
    "y_labels[(360<df.seconds_from_start)&(df.seconds_from_start<390)] = 1\n",
    "y_labels[(420<df.seconds_from_start)&(df.seconds_from_start<450)] = 1\n",
    "y_labels[(480<df.seconds_from_start)&(df.seconds_from_start<510)] = 1\n",
    "y_labels[(540<df.seconds_from_start)&(df.seconds_from_start<570)] = 1\n",
    "y_labels[(600<df.seconds_from_start)&(df.seconds_from_start<630)] = 1"
   ]
  },
  {
   "cell_type": "code",
   "execution_count": null,
   "metadata": {},
   "outputs": [],
   "source": [
    "plt.plot(df[\"channel1\"])\n",
    "plt.plot(y_labels,'r')"
   ]
  },
  {
   "cell_type": "code",
   "execution_count": null,
   "metadata": {},
   "outputs": [],
   "source": [
    "channel1 = df['channel1']\n",
    "channel2 = df['channel2']\n",
    "channel3 = df['channel3']\n",
    "channel4 = df['channel4']"
   ]
  },
  {
   "cell_type": "code",
   "execution_count": null,
   "metadata": {},
   "outputs": [],
   "source": [
    "# Data cleaning isn't over! Let's remove also 60Hgz waves produced by power lines"
   ]
  },
  {
   "cell_type": "code",
   "execution_count": null,
   "metadata": {},
   "outputs": [],
   "source": [
    "b, a = ss.iirnotch(60.0, 200.0, 200.)\n",
    "\n",
    "channel1 = ss.filtfilt(b,a,channel1)"
   ]
  },
  {
   "cell_type": "code",
   "execution_count": null,
   "metadata": {},
   "outputs": [],
   "source": [
    "channel2 = ss.filtfilt(b,a,channel2)\n",
    "channel3 = ss.filtfilt(b,a,channel3)\n",
    "channel4 = ss.filtfilt(b,a,channel4)"
   ]
  },
  {
   "cell_type": "code",
   "execution_count": null,
   "metadata": {},
   "outputs": [],
   "source": [
    "channel1[np.abs(channel1)>3] = np.nan\n",
    "channel2[np.abs(channel2)>3] = np.nan\n",
    "channel3[np.abs(channel3)>3] = np.nan\n",
    "channel4[np.abs(channel4)>3] = np.nan\n",
    "y_labels[(np.abs(channel1)>3) | (np.abs(channel2)>3) | (np.abs(channel3)>3) | (np.abs(channel4)>3)] = np.nan"
   ]
  },
  {
   "cell_type": "code",
   "execution_count": null,
   "metadata": {},
   "outputs": [],
   "source": [
    "channel1 = df['channel1']\n",
    "channel2 = df['channel2']\n",
    "channel3 = df['channel3']\n",
    "channel4 = df['channel4']\n",
    "df['y_labels'] = y_labels"
   ]
  },
  {
   "cell_type": "code",
   "execution_count": null,
   "metadata": {},
   "outputs": [],
   "source": [
    "X = df['channel2'].iloc[y_labels[:,0]==0]\n",
    "plt.psd(X[~np.isnan(X)],512,Fs=200,color='r')\n",
    "X = df['channel2'].iloc[y_labels[:,0]==1]\n",
    "plt.psd(X[~np.isnan(X)],512,Fs=200)\n",
    "plt.xlim(0,100)\n",
    "#plt.show()\n",
    "plt.show()"
   ]
  },
  {
   "cell_type": "code",
   "execution_count": null,
   "metadata": {},
   "outputs": [],
   "source": [
    "from scipy.integrate import simps\n",
    "import scipy.stats as sst\n",
    "from matplotlib.mlab import psd\n",
    "\n",
    "def bandpower(trace,band):\n",
    "    [a1,f1]=psd(trace[~np.isnan(trace)],512,Fs=200)\n",
    "    total_power1 = simps(a1, dx=0.1)\n",
    "    ap1 = simps(a1[(f1>band[0]) & (f1<band[1])], dx=0.1)\n",
    "    return ap1/total_power1\n",
    "    \n",
    "input_mat = np.zeros((600,21))\n",
    "c=0\n",
    "for i in np.arange(0,120000,200):\n",
    "    \n",
    "    X1=df['channel1'];X2=df['channel2'];X3=df['channel3'];X4 = df['channel4']\n",
    "    Y = df['y_labels']\n",
    "    \n",
    "    X1=X1[i:i+200];X2=X2[i:i+200];X3=X3[i:i+200];X4=X4[i:i+200]\n",
    "    Y=Y[i:i+200]\n",
    "    \n",
    "    input_mat[c,0] = bandpower(X1,[8,12]);input_mat[c,1] = bandpower(X2,[8,12]);\n",
    "    input_mat[c,2] = bandpower(X3,[8,12]);input_mat[c,3] = bandpower(X4,[8,12]);\n",
    "    \n",
    "    input_mat[c,4] = bandpower(X1,[3,8]);input_mat[c,5] = bandpower(X2,[3,8]);\n",
    "    input_mat[c,6] = bandpower(X3,[3,8]);input_mat[c,7] = bandpower(X4,[3,8]);\n",
    "    \n",
    "    input_mat[c,8] = bandpower(X1,[12,38]);input_mat[c,9] = bandpower(X2,[12,38]);\n",
    "    input_mat[c,10] = bandpower(X3,[12,38]);input_mat[c,11] = bandpower(X4,[12,38]);\n",
    "    \n",
    "    input_mat[c,12] = bandpower(X1,[38,100]);input_mat[c,13] = bandpower(X2,[38,100]);\n",
    "    input_mat[c,14] = bandpower(X3,[38,100]);input_mat[c,15] = bandpower(X4,[38,100]);\n",
    "    \n",
    "    input_mat[c,16] = bandpower(X1,[0.5,3]);input_mat[c,17] = bandpower(X2,[0.5,3]);\n",
    "    input_mat[c,18] = bandpower(X3,[0.5,3]);input_mat[c,19] = bandpower(X4,[0.5,3]);\n",
    "    \n",
    "    [u,n] = np.unique(Y,return_counts=True)\n",
    "    if n.shape[0]==1:\n",
    "        input_mat[c,-1] = u[0].astype(int)\n",
    "    else:\n",
    "        input_mat[c,-1] = np.nan\n",
    "        \n",
    "    c+=1\n",
    "\n",
    "feat_eng_df = pd.DataFrame(input_mat, columns = ['alpha_power_1','alpha_power_2','alpha_power_3','alpha_power_4',\n",
    "                                                 'theta_power_1','theta_power_2','theta_power_3','theta_power_4',\n",
    "                                                 'beta_power_1','beta_power_2','beta_power_3','beta_power_4',\n",
    "                                                 'gamma_power_1','gamma_power_2','gamma_power_3','gamma_power_4',\n",
    "                                                 'delta_power_1','delta_power_2','delta_power_3','delta_power_4',\n",
    "                                                 'eyes_closed'])"
   ]
  },
  {
   "cell_type": "code",
   "execution_count": null,
   "metadata": {},
   "outputs": [],
   "source": [
    "import seaborn as sns\n",
    "sns.boxplot(x='eyes_closed',y='alpha_power_3',data=feat_eng_df)"
   ]
  },
  {
   "cell_type": "code",
   "execution_count": null,
   "metadata": {},
   "outputs": [],
   "source": [
    "from sklearn.preprocessing import scale\n",
    "\n",
    "train_df = feat_eng_df.iloc[0:420,:]\n",
    "test_df = feat_eng_df.iloc[420:,:]\n",
    "\n",
    "train_df = train_df.sample(frac=1).reset_index(drop=True)\n",
    "test_df = test_df.sample(frac=1).reset_index(drop=True)\n",
    "\n",
    "X_train = train_df.iloc[:,:-1]\n",
    "y_train = train_df.iloc[:,-1]\n",
    "X_test = test_df.iloc[:,:-1]\n",
    "y_test = test_df.iloc[:,-1]\n",
    "\n",
    "X_train = X_train[~np.isnan(y_train)]\n",
    "y_train = y_train[~np.isnan(y_train)]\n",
    "X_test = X_test[~np.isnan(y_test)]\n",
    "y_test = y_test[~np.isnan(y_test)]\n",
    "\n",
    "\n",
    "X_train = scale(X_train)\n",
    "X_test = scale(X_test)"
   ]
  },
  {
   "cell_type": "code",
   "execution_count": null,
   "metadata": {},
   "outputs": [],
   "source": [
    "X_train.shape, X_test.shape"
   ]
  },
  {
   "cell_type": "code",
   "execution_count": null,
   "metadata": {},
   "outputs": [],
   "source": [
    "from sklearn.metrics import confusion_matrix"
   ]
  },
  {
   "cell_type": "code",
   "execution_count": null,
   "metadata": {},
   "outputs": [],
   "source": [
    "from sklearn import svm"
   ]
  },
  {
   "cell_type": "code",
   "execution_count": null,
   "metadata": {},
   "outputs": [],
   "source": [
    "from sklearn.svm import SVC\n",
    "svclassifier = SVC(kernel='linear')\n",
    "svclassifier.fit(X_train, y_train)"
   ]
  },
  {
   "cell_type": "code",
   "execution_count": null,
   "metadata": {},
   "outputs": [],
   "source": [
    "y_pred = svclassifier.predict(X_test)"
   ]
  },
  {
   "cell_type": "code",
   "execution_count": null,
   "metadata": {},
   "outputs": [],
   "source": [
    "from sklearn.metrics import classification_report, confusion_matrix\n",
    "print(confusion_matrix(y_test,y_pred))\n",
    "print(classification_report(y_test,y_pred))"
   ]
  },
  {
   "cell_type": "code",
   "execution_count": null,
   "metadata": {},
   "outputs": [],
   "source": [
    "\n",
    "svclassifier = SVC(kernel='poly', degree=8)\n",
    "svclassifier.fit(X_train, y_train)\n",
    "y_pred1 = clf.predict(X_test)"
   ]
  },
  {
   "cell_type": "code",
   "execution_count": null,
   "metadata": {},
   "outputs": [],
   "source": [
    "y_pred1 = svclassifier.predict(X_test)\n",
    "y_pred1 = clf.predict(X_test)"
   ]
  },
  {
   "cell_type": "code",
   "execution_count": null,
   "metadata": {},
   "outputs": [],
   "source": [
    "print(confusion_matrix(y_test, y_pred))\n",
    "print(classification_report(y_test, y_pred))\n"
   ]
  },
  {
   "cell_type": "code",
   "execution_count": null,
   "metadata": {},
   "outputs": [],
   "source": [
    "svclassifier = SVC(kernel='rbf')\n",
    "svclassifier.fit(X_train, y_train)\n",
    "y_pred = clf.predict(X_test)"
   ]
  },
  {
   "cell_type": "code",
   "execution_count": null,
   "metadata": {},
   "outputs": [],
   "source": [
    "print(confusion_matrix(y_test, y_pred))\n",
    "print(classification_report(y_test, y_pred))"
   ]
  },
  {
   "cell_type": "code",
   "execution_count": null,
   "metadata": {},
   "outputs": [],
   "source": [
    "svclassifier1 = SVC(kernel='sigmoid')\n",
    "svclassifier1.fit(X_train, y_train)\n",
    "y_pred1 = clf.predict(X_test)"
   ]
  },
  {
   "cell_type": "code",
   "execution_count": null,
   "metadata": {},
   "outputs": [],
   "source": [
    "print(confusion_matrix(y_test, y_pred1))\n",
    "\n",
    "print(classification_report(y_test, y_pred1))"
   ]
  },
  {
   "cell_type": "code",
   "execution_count": null,
   "metadata": {},
   "outputs": [],
   "source": [
    "svclassifier = SVC(kernel='sigmoid')\n",
    "svclassifier.fit(X_train, y_train)\n",
    "y_pred = clf.predict(X_test)"
   ]
  },
  {
   "cell_type": "code",
   "execution_count": null,
   "metadata": {},
   "outputs": [],
   "source": [
    "\n",
    "print(classification_report(y_test, y_pred))"
   ]
  },
  {
   "cell_type": "code",
   "execution_count": null,
   "metadata": {},
   "outputs": [],
   "source": [
    "from sklearn import metrics\n",
    "print(\"Accuracy:\",metrics.accuracy_score(y_test, y_pred))"
   ]
  },
  {
   "cell_type": "code",
   "execution_count": null,
   "metadata": {},
   "outputs": [],
   "source": [
    "df_train = df[df.seconds_from_start<=420]\n",
    "df_test = df[df.seconds_from_start>420]"
   ]
  },
  {
   "cell_type": "code",
   "execution_count": null,
   "metadata": {},
   "outputs": [],
   "source": [
    "df_train.head()"
   ]
  },
  {
   "cell_type": "code",
   "execution_count": null,
   "metadata": {},
   "outputs": [],
   "source": [
    "from sklearn.model_selection import train_test_split\n",
    "from tqdm import tqdm_notebook\n",
    "\n",
    "window_size = 50\n",
    "stride=20\n",
    "\n",
    "df_class_train = np.zeros((int(df_train.shape[0]/stride),window_size+1,4))\n",
    "c=0\n",
    "for i in tqdm_notebook(np.arange(0,df_train.shape[0]-window_size,stride)):\n",
    "    df_class_train[c,0:window_size,0] = df_train['channel1'].iloc[i:i+window_size]\n",
    "    df_class_train[c,0:window_size,1] = df_train['channel2'].iloc[i:i+window_size]\n",
    "    df_class_train[c,0:window_size,2] = df_train['channel3'].iloc[i:i+window_size]\n",
    "    df_class_train[c,0:window_size,3] = df_train['channel4'].iloc[i:i+window_size]\n",
    "        \n",
    "    ylabs = df_train[y_labels].iloc[i:i+window_size]\n",
    "    ones=ylabs[ylabs==1]\n",
    "    zeros=ylabs[ylabs==0]\n",
    "    \n",
    "    if ones.shape[0]>zeros.shape[0]:\n",
    "        df_class_train[c,-1,:] = 1\n",
    "    else:\n",
    "        df_class_train[c,-1,:] = 0\n",
    "    c+=1\n",
    "    \n",
    "df_class_test = np.zeros((int(df_test.shape[0]/stride),window_size+1,4))\n",
    "c=0\n",
    "for i in tqdm_notebook(np.arange(0,df_test.shape[0]-window_size,stride)):\n",
    "    df_class_test[c,0:window_size,0] = df_test['channel1'].iloc[i:i+window_size]\n",
    "    df_class_test[c,0:window_size,1] = df_test['channel2'].iloc[i:i+window_size]\n",
    "    df_class_test[c,0:window_size,2] = df_test['channel3'].iloc[i:i+window_size]\n",
    "    df_class_test[c,0:window_size,3] = df_test['channel4'].iloc[i:i+window_size]\n",
    "    \n",
    "    ylabs = df_test['y_labels'].iloc[i:i+window_size]\n",
    "    ones=ylabs[ylabs==1]\n",
    "    zeros=ylabs[ylabs==0]\n",
    "    \n",
    "    if ones.shape[0]>zeros.shape[0]:\n",
    "        df_class_test[c,-1,:] = 1\n",
    "    else:\n",
    "        df_class_test[c,-1,:] = 0\n",
    "    c+=1\n",
    "    \n",
    "    "
   ]
  },
  {
   "cell_type": "code",
   "execution_count": null,
   "metadata": {},
   "outputs": [],
   "source": [
    "df_class_train.shape,df_class_test.shape"
   ]
  },
  {
   "cell_type": "code",
   "execution_count": null,
   "metadata": {},
   "outputs": [],
   "source": [
    "import pywt\n",
    "import matplotlib.pyplot as plt\n",
    "\n",
    "def split_indices_per_label(y):\n",
    "    indicies_per_label = [[] for x in range(0,6)]\n",
    "    # loop over the six labels\n",
    "    for i in range(6): \n",
    "        indicies_per_label[i] = np.where(y == i)[0]\n",
    "    return indicies_per_label\n",
    "\n",
    "def plot_cwt_coeffs_per_label(X, label_indicies, label_names, signal, sample, scales, wavelet):\n",
    "    \n",
    "    fig, axs = plt.subplots(nrows=2, ncols=3, sharex=True, sharey=True, figsize=(12,5))\n",
    "    \n",
    "    for ax, indices, name in zip(axs.flat, label_indicies, label_names):\n",
    "        # apply  PyWavelets continuous wavelet transfromation function\n",
    "        coeffs, freqs = pywt.cwt(X[indices[sample],:, signal], scales, wavelet = wavelet)\n",
    "        # create scalogram\n",
    "        ax.imshow(coeffs, cmap = 'coolwarm', aspect = 'auto')\n",
    "        ax.set_title(name)\n",
    "        ax.spines['right'].set_visible(False)\n",
    "        ax.spines['top'].set_visible(False)\n",
    "        ax.set_ylabel('Scale')\n",
    "        ax.set_xlabel('Time')\n",
    "    plt.tight_layout()\n",
    "\n",
    "# list of list of sample indicies per activity\n",
    "train_labels_indicies = split_indices_per_label(y_train)\n",
    "\n",
    "#signal indicies: 0 = body acc x, 1 = body acc y, 2 = body acc z, 3 = body gyro x, 4 = body gyro y, 5 = body gyro z, 6 = total acc x, 7 = total acc y, 8 = total acc z\n",
    "signal = 3 # signal index\n",
    "sample = 1 # sample index of each label indicies list\n",
    "scales = np.arange(1, 65) # range of scales\n",
    "wavelet = 'morl' # mother wavelet\n",
    "\n",
    "plot_cwt_coeffs_per_label(X_train, train_labels_indicies, LABEL_NAMES, signal, sample, scales, wavelet)"
   ]
  }
 ],
 "metadata": {
  "kernelspec": {
   "display_name": "Python 3",
   "language": "python",
   "name": "python3"
  },
  "language_info": {
   "codemirror_mode": {
    "name": "ipython",
    "version": 3
   },
   "file_extension": ".py",
   "mimetype": "text/x-python",
   "name": "python",
   "nbconvert_exporter": "python",
   "pygments_lexer": "ipython3",
   "version": "3.7.4"
  }
 },
 "nbformat": 4,
 "nbformat_minor": 2
}
